{
 "cells": [
  {
   "cell_type": "code",
   "execution_count": 3,
   "id": "7d12c722-d4f1-4958-8949-e9da689156dc",
   "metadata": {},
   "outputs": [],
   "source": [
    "import tkinter as tk\n",
    "from tkinter import messagebox\n",
    "\n",
    "class TicTacToe:\n",
    "    def __init__(self, master):\n",
    "        self.master = master\n",
    "        self.master.title(\"Tic Tac Toe\")\n",
    "        self.reset_game()\n",
    "\n",
    "    def reset_game(self):\n",
    "        self.board = [None] * 9\n",
    "        self.current_player = \"X\"\n",
    "        self.buttons = []\n",
    "        self.create_buttons()\n",
    "\n",
    "    def create_buttons(self):\n",
    "        for i in range(9):\n",
    "            button = tk.Button(self.master, text=\"\", font=('Arial', 24), width=5, height=2,\n",
    "                               command=lambda i=i: self.make_move(i))\n",
    "            button.grid(row=i // 3, column=i % 3)\n",
    "            self.buttons.append(button)\n",
    "\n",
    "    def make_move(self, index):\n",
    "        if self.board[index] is None:\n",
    "            self.board[index] = self.current_player\n",
    "            self.buttons[index].config(text=self.current_player)\n",
    "            if self.check_winner():\n",
    "                messagebox.showinfo(\"Game Over\", f\"Player {self.current_player} wins!\")\n",
    "                self.reset_game()\n",
    "            elif None not in self.board:\n",
    "                messagebox.showinfo(\"Game Over\", \"It's a draw!\")\n",
    "                self.reset_game()\n",
    "            else:\n",
    "                self.current_player = \"O\" if self.current_player == \"X\" else \"X\"\n",
    "\n",
    "    def check_winner(self):\n",
    "        winning_combinations = [\n",
    "            (0, 1, 2), (3, 4, 5), (6, 7, 8),  # horizontal\n",
    "            (0, 3, 6), (1, 4, 7), (2, 5, 8),  # vertical\n",
    "            (0, 4, 8), (2, 4, 6)               # diagonal\n",
    "        ]\n",
    "        for combo in winning_combinations:\n",
    "            if self.board[combo[0]] == self.board[combo[1]] == self.board[combo[2]] != None:\n",
    "                return True\n",
    "        return False\n",
    "\n",
    "if __name__ == \"__main__\":\n",
    "    root = tk.Tk()\n",
    "    game = TicTacToe(root)\n",
    "    root.mainloop()"
   ]
  },
  {
   "cell_type": "code",
   "execution_count": null,
   "id": "e7f51d7c-6aca-44f6-9803-65a7a08e2c12",
   "metadata": {},
   "outputs": [],
   "source": []
  }
 ],
 "metadata": {
  "kernelspec": {
   "display_name": "Python 3 (ipykernel)",
   "language": "python",
   "name": "python3"
  },
  "language_info": {
   "codemirror_mode": {
    "name": "ipython",
    "version": 3
   },
   "file_extension": ".py",
   "mimetype": "text/x-python",
   "name": "python",
   "nbconvert_exporter": "python",
   "pygments_lexer": "ipython3",
   "version": "3.12.4"
  }
 },
 "nbformat": 4,
 "nbformat_minor": 5
}
